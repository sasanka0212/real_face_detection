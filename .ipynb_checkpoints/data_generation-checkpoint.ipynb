{
 "cells": [
  {
   "cell_type": "code",
   "execution_count": null,
   "id": "a9aad090-3f4a-455d-928e-d8009dbcd155",
   "metadata": {},
   "outputs": [
    {
     "name": "stdin",
     "output_type": "stream",
     "text": [
      "Enter the name of the person:  sasanka_kundu\n"
     ]
    },
    {
     "name": "stdout",
     "output_type": "stream",
     "text": [
      "[INFO] Capturing images. Press 's' to save an image, 'q' to quit.\n",
      "[INFO] Saved image 0.jpg\n",
      "[INFO] Saved image 1.jpg\n",
      "[INFO] Saved image 2.jpg\n",
      "[INFO] Saved image 3.jpg\n",
      "[INFO] Saved image 4.jpg\n",
      "[INFO] Saved image 5.jpg\n",
      "[INFO] Saved image 6.jpg\n",
      "[INFO] Saved image 7.jpg\n",
      "[INFO] Saved image 8.jpg\n",
      "[INFO] Saved image 9.jpg\n",
      "[INFO] Saved image 10.jpg\n"
     ]
    }
   ],
   "source": [
    "import tkinter as tk\n",
    "from tkinter import messagebox\n",
    "import cv2\n",
    "import os\n",
    "import numpy as np\n",
    "from PIL import Image\n",
    "from Data_Collection import generate_dataset\n",
    "from Train_Model import train_classifier\n",
    "from Classification import start_recognition\n",
    "\n",
    "window = tk.Tk()\n",
    "window.title(\"Face Recognition System\")\n",
    "\n",
    "#creating label 1\n",
    "label1 = tk.Label(window, text=\"Name\", font=(\"Calibri\", 20))\n",
    "label1.grid(column=0, row=0)\n",
    "t1 = tk.Entry(window, width=50, bd=5)\n",
    "t1.grid(column=1, row=0)\n",
    "\n",
    "#creating label 1\n",
    "label2 = tk.Label(window, text=\"Age\", font=(\"Calibri\", 20))\n",
    "label2.grid(column=0, row=1)\n",
    "t2 = tk.Entry(window, width=50, bd=5)\n",
    "t2.grid(column=1, row=1)\n",
    "\n",
    "#creating label 1\n",
    "label3 = tk.Label(window, text=\"Address\", font=(\"Calibri\", 20))\n",
    "label3.grid(column=0, row=2)\n",
    "t3 = tk.Entry(window, width=50, bd=5)\n",
    "t3.grid(column=1, row=2)\n",
    "\n",
    "#creating buttons\n",
    "b1 = tk.Button(window, text=\"Training\", font=(\"Calibri\", 20), bg=\"Blue\", fg=\"White\", command=train_classifier)\n",
    "b1.grid(column=0, row=3)\n",
    "\n",
    "b2 = tk.Button(window, text=\"Detect Face\", font=(\"Calibri\", 20), bg=\"Red\", fg=\"White\", command=start_recognition)\n",
    "b2.grid(column=1, row=3)\n",
    "def gd():\n",
    "    generate_dataset(t1, t2, t3)\n",
    "\n",
    "b3 = tk.Button(window, text=\"Generate Dataset\", font=(\"Calibri\", 20), bg=\"Green\", fg=\"White\", command=gd)\n",
    "b3.grid(column=2, row=3)\n",
    "\n",
    "window.geometry(\"800x300\")\n",
    "window.mainloop(0)"
   ]
  },
  {
   "cell_type": "code",
   "execution_count": 11,
   "id": "19f20df5-cc29-4ac8-8235-e5ee4a616682",
   "metadata": {},
   "outputs": [
    {
     "name": "stdout",
     "output_type": "stream",
     "text": [
      "Requirement already satisfied: opencv-contrib-python in c:\\users\\user\\appdata\\local\\programs\\python\\python312\\lib\\site-packages (4.10.0.84)\n",
      "Requirement already satisfied: numpy>=1.21.2 in c:\\users\\user\\appdata\\local\\programs\\python\\python312\\lib\\site-packages (from opencv-contrib-python) (1.26.4)\n"
     ]
    },
    {
     "name": "stderr",
     "output_type": "stream",
     "text": [
      "\n",
      "[notice] A new release of pip is available: 25.0.1 -> 25.1\n",
      "[notice] To update, run: python.exe -m pip install --upgrade pip\n"
     ]
    }
   ],
   "source": [
    "!pip install opencv-contrib-python --user"
   ]
  },
  {
   "cell_type": "code",
   "execution_count": null,
   "id": "dfd52e61-c441-4faf-8bdd-c9623d475068",
   "metadata": {},
   "outputs": [],
   "source": []
  }
 ],
 "metadata": {
  "kernelspec": {
   "display_name": "Python 3 (ipykernel)",
   "language": "python",
   "name": "python3"
  },
  "language_info": {
   "codemirror_mode": {
    "name": "ipython",
    "version": 3
   },
   "file_extension": ".py",
   "mimetype": "text/x-python",
   "name": "python",
   "nbconvert_exporter": "python",
   "pygments_lexer": "ipython3",
   "version": "3.12.7"
  }
 },
 "nbformat": 4,
 "nbformat_minor": 5
}
